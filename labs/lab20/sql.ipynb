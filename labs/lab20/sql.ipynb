{
  "nbformat": 4,
  "nbformat_minor": 0,
  "metadata": {
    "colab": {
      "name": "sql.ipynb",
      "provenance": []
    },
    "kernelspec": {
      "name": "python3",
      "display_name": "Python 3"
    },
    "language_info": {
      "name": "python"
    }
  },
  "cells": [
    {
      "cell_type": "code",
      "metadata": {
        "id": "sFKsraGroW7J"
      },
      "source": [
        "import sqlite3"
      ],
      "execution_count": 1,
      "outputs": []
    },
    {
      "cell_type": "code",
      "metadata": {
        "id": "Ab9KLP2xorf7"
      },
      "source": [
        "database_name = \"biblio\"\n",
        "\n",
        "connection = sqlite3.connect(database_name)\n",
        "cursor = connection.cursor()"
      ],
      "execution_count": 3,
      "outputs": []
    },
    {
      "cell_type": "code",
      "metadata": {
        "colab": {
          "base_uri": "https://localhost:8080/"
        },
        "id": "ween11Gaozl3",
        "outputId": "b0efd081-c480-4c15-9bdb-d6be5c288075"
      },
      "source": [
        "cursor.execute(\n",
        "    '''\n",
        "    CREATE TABLE Book(\n",
        "        id INT PRIMARY KEY NOT NULL,\n",
        "        title TEXT,\n",
        "        author TEXT,\n",
        "        publish_year INT\n",
        "    )\n",
        "    '''\n",
        ")"
      ],
      "execution_count": 4,
      "outputs": [
        {
          "output_type": "execute_result",
          "data": {
            "text/plain": [
              "<sqlite3.Cursor at 0x7f7319d793b0>"
            ]
          },
          "metadata": {
            "tags": []
          },
          "execution_count": 4
        }
      ]
    },
    {
      "cell_type": "code",
      "metadata": {
        "colab": {
          "base_uri": "https://localhost:8080/"
        },
        "id": "Co5fRZdeo2Js",
        "outputId": "791e7e6b-30e6-4250-de8b-3327b81536e3"
      },
      "source": [
        "cursor.execute(\n",
        "    '''\n",
        "    INSERT INTO Book VALUES\n",
        "    (1, 'Harry Potter and the Philosopher''s Stone', 'J. K. Rowling', 1997),\n",
        "    (2, 'Методы решения задач в общем курсе физики, Механика', 'Корявов В.П.', 2007),\n",
        "    (3, 'Batman: Gotham by Gaslight', 'Brian Augustyn, Mike Mignola', 1989),\n",
        "    (4, 'Мёртвые души', 'Н. В. Гоголь', 1842),\n",
        "    (5, 'The Running Man', 'Richard Bachman', 1982)\n",
        "    '''\n",
        ")"
      ],
      "execution_count": 5,
      "outputs": [
        {
          "output_type": "execute_result",
          "data": {
            "text/plain": [
              "<sqlite3.Cursor at 0x7f7319d793b0>"
            ]
          },
          "metadata": {
            "tags": []
          },
          "execution_count": 5
        }
      ]
    },
    {
      "cell_type": "code",
      "metadata": {
        "id": "rRL6eBVko46w"
      },
      "source": [
        "connection.commit()"
      ],
      "execution_count": null,
      "outputs": []
    },
    {
      "cell_type": "code",
      "metadata": {
        "colab": {
          "base_uri": "https://localhost:8080/"
        },
        "id": "UY8LbU5fo7T3",
        "outputId": "c3b00a35-1551-42c4-fd27-0c3962174c65"
      },
      "source": [
        "cursor.execute(\n",
        "    '''\n",
        "    CREATE TABLE Reader(\n",
        "        id INT PRIMARY KEY NOT NULL,\n",
        "        name TEXT\n",
        "    )\n",
        "    '''\n",
        ")"
      ],
      "execution_count": 6,
      "outputs": [
        {
          "output_type": "execute_result",
          "data": {
            "text/plain": [
              "<sqlite3.Cursor at 0x7f7319d793b0>"
            ]
          },
          "metadata": {
            "tags": []
          },
          "execution_count": 6
        }
      ]
    },
    {
      "cell_type": "code",
      "metadata": {
        "colab": {
          "base_uri": "https://localhost:8080/"
        },
        "id": "buTqpEKoo_oL",
        "outputId": "b44dad38-20ee-470b-d1fc-31feb58b83b0"
      },
      "source": [
        "cursor.execute(\n",
        "    '''\n",
        "    INSERT INTO Reader VALUES\n",
        "    (1, 'V.V. Petrovich'),\n",
        "    (2, 'Alexanderr'),\n",
        "    (3, 'Arkadiy Svidrigaylov'),\n",
        "    (4, 'Vitalya'),\n",
        "    (5, 'Noname')\n",
        "    '''\n",
        ")"
      ],
      "execution_count": 7,
      "outputs": [
        {
          "output_type": "execute_result",
          "data": {
            "text/plain": [
              "<sqlite3.Cursor at 0x7f7319d793b0>"
            ]
          },
          "metadata": {
            "tags": []
          },
          "execution_count": 7
        }
      ]
    },
    {
      "cell_type": "code",
      "metadata": {
        "colab": {
          "base_uri": "https://localhost:8080/"
        },
        "id": "oWk6TY-wpAag",
        "outputId": "55c9da73-0527-45bc-bf83-7196024e7e6f"
      },
      "source": [
        "cursor.execute(\n",
        "    '''\n",
        "    CREATE TABLE Record(\n",
        "        id INT PRIMARY KEY NOT NULL,\n",
        "        reader_id INT REFERENCES Readers(id) NOT NULL,\n",
        "        book_id INT REFERENCES Books(id) NOT NULL,\n",
        "        taking_date TEXT,\n",
        "        returning_date TEXT\n",
        "    )\n",
        "    '''\n",
        ")"
      ],
      "execution_count": 8,
      "outputs": [
        {
          "output_type": "execute_result",
          "data": {
            "text/plain": [
              "<sqlite3.Cursor at 0x7f7319d793b0>"
            ]
          },
          "metadata": {
            "tags": []
          },
          "execution_count": 8
        }
      ]
    },
    {
      "cell_type": "code",
      "metadata": {
        "colab": {
          "base_uri": "https://localhost:8080/"
        },
        "id": "ViBYPpcspE9q",
        "outputId": "bf60adef-786f-49ae-9b72-aa1763224b14"
      },
      "source": [
        "cursor.execute(\n",
        "    '''\n",
        "    INSERT INTO Record VALUES\n",
        "    (1, 3, 4, '1842-02-14', '1842-07-01'),\n",
        "    (2, 4, 4, '1996-10-26', NULL),\n",
        "    (3, 1, 2, '2006-06-13', '2006-06-14'),\n",
        "    (4, 1, 1, '2006-06-14', '2006-06-15'),\n",
        "    (5, 1, 3, '2006-06-15', '2006-07-20'),\n",
        "    (6, 2, 5, '1985-10-11', '1987-12-25'),\n",
        "    (7, 5, 3, '2001-03-15', NULL),\n",
        "    (8, 5, 3, '2002-09-19', '2002-09-25')\n",
        "    '''\n",
        ")"
      ],
      "execution_count": 9,
      "outputs": [
        {
          "output_type": "execute_result",
          "data": {
            "text/plain": [
              "<sqlite3.Cursor at 0x7f7319d793b0>"
            ]
          },
          "metadata": {
            "tags": []
          },
          "execution_count": 9
        }
      ]
    },
    {
      "cell_type": "code",
      "metadata": {
        "id": "oDEq3dYkpHyD"
      },
      "source": [
        "connection.commit()\n",
        "connection.close()"
      ],
      "execution_count": 10,
      "outputs": []
    },
    {
      "cell_type": "code",
      "metadata": {
        "id": "rFSTVCEPpIYE"
      },
      "source": [
        "connection = sqlite3.connect(database_name)\n",
        "cursor = connection.cursor()"
      ],
      "execution_count": 11,
      "outputs": []
    },
    {
      "cell_type": "code",
      "metadata": {
        "id": "hfN2_vdWpQja"
      },
      "source": [
        "def list_of_books(cursor):\n",
        "  cursor.execute(\"SELECT * FROM Book\")\n",
        "  for row in cursor.execute(\"SELECT id, title FROM Book\"):\n",
        "    print(*row)"
      ],
      "execution_count": 12,
      "outputs": []
    },
    {
      "cell_type": "code",
      "metadata": {
        "id": "hBp148m-poV6"
      },
      "source": [
        "def list_of_readers(cursor):\n",
        "  cursor.execute(\"SELECT * FROM Reader\")\n",
        "  for row in cursor.execute(\"SELECT * FROM Reader\"):\n",
        "    print(*row)"
      ],
      "execution_count": 13,
      "outputs": []
    },
    {
      "cell_type": "code",
      "metadata": {
        "id": "TZvS0fXbqD4-"
      },
      "source": [
        "def add_book(cursor, name, author, year):\n",
        "  cursor.execute(\"SELECT Count(*) FROM Book\")\n",
        "  id = cursor.fetchone()[0]\n",
        "  new_book = [\n",
        "    (id + 1, name, author, year),    \n",
        "  ]\n",
        "\n",
        "  connection.executemany(\n",
        "    \"INSERT INTO Book VALUES (?, ?, ?, ?)\",\n",
        "    new_book\n",
        "  )"
      ],
      "execution_count": 23,
      "outputs": []
    },
    {
      "cell_type": "code",
      "metadata": {
        "id": "uXYKcg5rsJIS"
      },
      "source": [
        "def add_reader(cursor, reader):\n",
        "  \n",
        "  cursor.execute(\"SELECT Count(*) FROM Reader\")\n",
        "  id = cursor.fetchone()[0]\n",
        "\n",
        "  new_pearson = [\n",
        "    (id + 1, reader)   \n",
        "  ]\n",
        "\n",
        "  connection.executemany(\n",
        "    \"INSERT INTO Reader VALUES (?, ?)\",\n",
        "    new_pearson\n",
        "  )"
      ],
      "execution_count": 24,
      "outputs": []
    },
    {
      "cell_type": "code",
      "metadata": {
        "id": "RALaevlrtthc"
      },
      "source": [
        "add_book(cursor, 'teremok', 'narod', 2021)"
      ],
      "execution_count": 25,
      "outputs": []
    },
    {
      "cell_type": "code",
      "metadata": {
        "colab": {
          "base_uri": "https://localhost:8080/"
        },
        "id": "JMnkn8_Rvg-e",
        "outputId": "f1662b3b-1655-4b2c-b534-01c9eda524d4"
      },
      "source": [
        "list_of_books(cursor)"
      ],
      "execution_count": 26,
      "outputs": [
        {
          "output_type": "stream",
          "text": [
            "1 Harry Potter and the Philosopher's Stone\n",
            "2 Методы решения задач в общем курсе физики, Механика\n",
            "3 Batman: Gotham by Gaslight\n",
            "4 Мёртвые души\n",
            "5 The Running Man\n",
            "6 teremok\n"
          ],
          "name": "stdout"
        }
      ]
    },
    {
      "cell_type": "code",
      "metadata": {
        "id": "bp-5UfRivnJ_"
      },
      "source": [
        "add_reader(cursor, 'Luda')"
      ],
      "execution_count": 27,
      "outputs": []
    },
    {
      "cell_type": "code",
      "metadata": {
        "colab": {
          "base_uri": "https://localhost:8080/"
        },
        "id": "38VPdMexvvMI",
        "outputId": "d61a918e-e481-4984-a882-5dae20f44852"
      },
      "source": [
        "list_of_readers(cursor)"
      ],
      "execution_count": 28,
      "outputs": [
        {
          "output_type": "stream",
          "text": [
            "1 V.V. Petrovich\n",
            "2 Alexanderr\n",
            "3 Arkadiy Svidrigaylov\n",
            "4 Vitalya\n",
            "5 Noname\n",
            "6 Petr Pavlovitch\n",
            "7 Luda\n"
          ],
          "name": "stdout"
        }
      ]
    },
    {
      "cell_type": "markdown",
      "metadata": {
        "id": "CqkXE-nkxZfq"
      },
      "source": [
        "Предыдущие функции работают, проверили. Попробуем дальше."
      ]
    },
    {
      "cell_type": "code",
      "metadata": {
        "id": "uDq-cOYTxoBF"
      },
      "source": [
        "def give_book(cursor, k1, k2, date):\n",
        "  cursor.execute(\"SELECT Count(*) FROM Record\")\n",
        "  id = cursor.fetchone()[0]\n",
        "  new_record = [\n",
        "    (id + 1, k1, k2, date, None)   \n",
        "  ]\n",
        "\n",
        "  connection.executemany(\n",
        "    \"INSERT INTO Record VALUES (?, ?, ?, ?, ?)\",\n",
        "    new_record\n",
        "  )"
      ],
      "execution_count": 29,
      "outputs": []
    },
    {
      "cell_type": "code",
      "metadata": {
        "id": "gPeLCytmzQpc"
      },
      "source": [
        "def check_records(cursor):\n",
        "  cursor.execute(\"SELECT * FROM Record\")\n",
        "  for row in cursor.execute(\"SELECT * FROM Record\"):\n",
        "    print(*row)"
      ],
      "execution_count": 35,
      "outputs": []
    },
    {
      "cell_type": "code",
      "metadata": {
        "id": "XkKhOIQczc-H"
      },
      "source": [
        "def receive_book(cursor, k1, k2, date1, date2):\n",
        "  cursor.execute(\"SELECT Count(*) FROM Record\")\n",
        "  id = cursor.fetchone()[0]\n",
        "  new_record = [\n",
        "    (id + 1, k1, k2, date1, date2)   \n",
        "  ]\n",
        "\n",
        "  connection.executemany(\n",
        "    \"INSERT INTO Record VALUES (?, ?, ?, ?, ?)\",\n",
        "    new_record\n",
        "  )"
      ],
      "execution_count": 56,
      "outputs": []
    },
    {
      "cell_type": "code",
      "metadata": {
        "id": "6sfJX8F-0Iva"
      },
      "source": [
        "give_book(cursor, 1, 3, '2020-09-28')"
      ],
      "execution_count": 53,
      "outputs": []
    },
    {
      "cell_type": "code",
      "metadata": {
        "colab": {
          "base_uri": "https://localhost:8080/"
        },
        "id": "FeVDxix80hzE",
        "outputId": "121fc568-de86-4782-9d7a-e4ae3e630c1c"
      },
      "source": [
        "check_records(cursor)"
      ],
      "execution_count": 54,
      "outputs": [
        {
          "output_type": "stream",
          "text": [
            "1 3 4 1842-02-14 1842-07-01\n",
            "2 4 4 1996-10-26 None\n",
            "3 1 2 2006-06-13 2006-06-14\n",
            "4 1 1 2006-06-14 2006-06-15\n",
            "5 1 3 2006-06-15 2006-07-20\n",
            "6 2 5 1985-10-11 1987-12-25\n",
            "7 5 3 2001-03-15 None\n",
            "8 5 3 2002-09-19 2002-09-25\n",
            "9 1 3 2020-09-28 None\n",
            "10 1 3 2020-09-28 None\n",
            "11 1 3 2020-09-28 None\n",
            "12 1 3 2020-09-28 None\n",
            "13 1 3 2020-09-28 None\n",
            "14 1 3 2020-09-28 None\n"
          ],
          "name": "stdout"
        }
      ]
    },
    {
      "cell_type": "code",
      "metadata": {
        "id": "R3d6ZmCG06X5"
      },
      "source": [
        "receive_book(cursor, 2, 3, '2020-06-12', '2020-07-12')"
      ],
      "execution_count": 57,
      "outputs": []
    },
    {
      "cell_type": "code",
      "metadata": {
        "colab": {
          "base_uri": "https://localhost:8080/"
        },
        "id": "l_Te7NkE6hiC",
        "outputId": "8edcdd8d-72c8-4168-e97a-c5b0d8945290"
      },
      "source": [
        "check_records(cursor)"
      ],
      "execution_count": 58,
      "outputs": [
        {
          "output_type": "stream",
          "text": [
            "1 3 4 1842-02-14 1842-07-01\n",
            "2 4 4 1996-10-26 None\n",
            "3 1 2 2006-06-13 2006-06-14\n",
            "4 1 1 2006-06-14 2006-06-15\n",
            "5 1 3 2006-06-15 2006-07-20\n",
            "6 2 5 1985-10-11 1987-12-25\n",
            "7 5 3 2001-03-15 None\n",
            "8 5 3 2002-09-19 2002-09-25\n",
            "9 1 3 2020-09-28 None\n",
            "10 1 3 2020-09-28 None\n",
            "11 1 3 2020-09-28 None\n",
            "12 1 3 2020-09-28 None\n",
            "13 1 3 2020-09-28 None\n",
            "14 1 3 2020-09-28 None\n",
            "15 2 3 2020-06-12 2020-07-12\n"
          ],
          "name": "stdout"
        }
      ]
    },
    {
      "cell_type": "markdown",
      "metadata": {
        "id": "zdYUL2w56neH"
      },
      "source": [
        "Вроде работает..."
      ]
    }
  ]
}